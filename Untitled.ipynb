{
 "cells": [
  {
   "cell_type": "code",
   "execution_count": 38,
   "metadata": {
    "ExecuteTime": {
     "end_time": "2020-05-30T00:55:13.996302Z",
     "start_time": "2020-05-30T00:55:13.957650Z"
    }
   },
   "outputs": [
    {
     "data": {
      "text/html": [
       "<div>\n",
       "<style scoped>\n",
       "    .dataframe tbody tr th:only-of-type {\n",
       "        vertical-align: middle;\n",
       "    }\n",
       "\n",
       "    .dataframe tbody tr th {\n",
       "        vertical-align: top;\n",
       "    }\n",
       "\n",
       "    .dataframe thead th {\n",
       "        text-align: right;\n",
       "    }\n",
       "</style>\n",
       "<table border=\"1\" class=\"dataframe\">\n",
       "  <thead>\n",
       "    <tr style=\"text-align: right;\">\n",
       "      <th></th>\n",
       "      <th>Date(UTC)</th>\n",
       "      <th>Market</th>\n",
       "      <th>Type</th>\n",
       "      <th>Price</th>\n",
       "      <th>Amount</th>\n",
       "      <th>Total</th>\n",
       "      <th>Fee</th>\n",
       "      <th>Fee Coin</th>\n",
       "    </tr>\n",
       "  </thead>\n",
       "  <tbody>\n",
       "    <tr>\n",
       "      <th>0</th>\n",
       "      <td>2020-05-17 17:33:05</td>\n",
       "      <td>ETHTUSD</td>\n",
       "      <td>BUY</td>\n",
       "      <td>208.1866</td>\n",
       "      <td>0.1</td>\n",
       "      <td>20.81866</td>\n",
       "      <td>0.020819</td>\n",
       "      <td>TUSD</td>\n",
       "    </tr>\n",
       "    <tr>\n",
       "      <th>1</th>\n",
       "      <td>2020-05-17 18:07:21</td>\n",
       "      <td>ETHTUSD</td>\n",
       "      <td>SELL</td>\n",
       "      <td>209.1539</td>\n",
       "      <td>0.1</td>\n",
       "      <td>20.91539</td>\n",
       "      <td>0.020915</td>\n",
       "      <td>TUSD</td>\n",
       "    </tr>\n",
       "    <tr>\n",
       "      <th>2</th>\n",
       "      <td>2020-05-17 18:10:30</td>\n",
       "      <td>ETHTUSD</td>\n",
       "      <td>SELL</td>\n",
       "      <td>210.4152</td>\n",
       "      <td>0.1</td>\n",
       "      <td>21.04152</td>\n",
       "      <td>0.021042</td>\n",
       "      <td>TUSD</td>\n",
       "    </tr>\n",
       "    <tr>\n",
       "      <th>3</th>\n",
       "      <td>2020-05-17 18:12:44</td>\n",
       "      <td>ETHTUSD</td>\n",
       "      <td>SELL</td>\n",
       "      <td>211.7916</td>\n",
       "      <td>0.1</td>\n",
       "      <td>21.17916</td>\n",
       "      <td>0.021179</td>\n",
       "      <td>TUSD</td>\n",
       "    </tr>\n",
       "    <tr>\n",
       "      <th>4</th>\n",
       "      <td>2020-05-17 18:14:44</td>\n",
       "      <td>ETHTUSD</td>\n",
       "      <td>SELL</td>\n",
       "      <td>212.6775</td>\n",
       "      <td>0.1</td>\n",
       "      <td>21.26775</td>\n",
       "      <td>0.021268</td>\n",
       "      <td>TUSD</td>\n",
       "    </tr>\n",
       "  </tbody>\n",
       "</table>\n",
       "</div>"
      ],
      "text/plain": [
       "            Date(UTC)   Market  Type     Price  Amount     Total       Fee  \\\n",
       "0 2020-05-17 17:33:05  ETHTUSD   BUY  208.1866     0.1  20.81866  0.020819   \n",
       "1 2020-05-17 18:07:21  ETHTUSD  SELL  209.1539     0.1  20.91539  0.020915   \n",
       "2 2020-05-17 18:10:30  ETHTUSD  SELL  210.4152     0.1  21.04152  0.021042   \n",
       "3 2020-05-17 18:12:44  ETHTUSD  SELL  211.7916     0.1  21.17916  0.021179   \n",
       "4 2020-05-17 18:14:44  ETHTUSD  SELL  212.6775     0.1  21.26775  0.021268   \n",
       "\n",
       "  Fee Coin  \n",
       "0     TUSD  \n",
       "1     TUSD  \n",
       "2     TUSD  \n",
       "3     TUSD  \n",
       "4     TUSD  "
      ]
     },
     "execution_count": 38,
     "metadata": {},
     "output_type": "execute_result"
    }
   ],
   "source": [
    "import pandas as pd\n",
    "from datetime import datetime\n",
    "\n",
    "# Create clean TradeFill Tables for Performance Analysis on Google Sheets (p&l)\n",
    "# Variables (fee_coin, base, quote, csv_file)\n",
    "coin = \"TUSD\"\n",
    "base = \"ETH\"\n",
    "quote = \"TUSD\"\n",
    "\n",
    "df = pd.read_csv(\"pmm_binance_ethtusd_1_TF_Tables.csv\").drop([\"strategy\", \"config_file_path\",\\\n",
    "                                                              \"order_id\", \"base_asset\", \"quote_asset\",\\\n",
    "                                                              \"exchange_trade_id\", \"order_type\", \"id\"], axis=1)\n",
    "\n",
    "if df.market[0].find(\"PaperTrade\") >= 0:\n",
    "    df = df.drop([\"market\", \"trade_fee\"], axis=1)\n",
    "    df['Date(UTC)'] = df.apply(lambda row: datetime.fromtimestamp(int(str(row[\"timestamp\"])[:10])), axis=1)\n",
    "df[\"Total\"] = df[\"price\"] * df[\"amount\"] \n",
    "df = df.rename(columns={\"symbol\":\"Market\", \"price\":\"Price\", \"amount\":\"Amount\", \"trade_type\":\"Type\"})\n",
    "cols = [\"Date(UTC)\", \"Market\", \"Type\", \"Price\", \"Amount\", \"Total\", \"Fee\", \"Fee Coin\"] \n",
    "df[\"Fee\"] = df.apply(lambda row: row[\"Total\"] * 0.001, axis=1)\n",
    "df[\"Fee Coin\"] = coin\n",
    "df = df[cols]\n",
    "df.to_csv(\"pmm_binance_ethtusd_1_clean_TF_Tables.csv\")\n",
    "df.head()"
   ]
  },
  {
   "cell_type": "code",
   "execution_count": 36,
   "metadata": {
    "ExecuteTime": {
     "end_time": "2020-05-30T00:48:07.262713Z",
     "start_time": "2020-05-30T00:48:07.254355Z"
    }
   },
   "outputs": [
    {
     "name": "stderr",
     "output_type": "stream",
     "text": [
      "/home/drakstik/anaconda3/lib/python3.7/site-packages/ipykernel_launcher.py:8: UserWarning: Boolean Series key will be reindexed to match DataFrame index.\n",
      "  \n"
     ]
    },
    {
     "data": {
      "text/plain": [
       "206.33595555555556"
      ]
     },
     "execution_count": 36,
     "metadata": {},
     "output_type": "execute_result"
    }
   ],
   "source": [
    "# Average Buy Price\n",
    "# Useful for strategy: If market price > average buy price, \n",
    "#                      lower bid-spread so you essentially decrease your avg buy price, \n",
    "#                      which will allow your bot to sell at a higher net spread.\n",
    "start_date = \"5/27/2020 00:00:00\"\n",
    "end_date = \"5/28/2020 00:00:00\"\n",
    "def avg_buy_price(clean_df, start, end, daily, n_days):\n",
    "    clean_df = clean_df[clean_df[\"Date(UTC)\"] < end][clean_df[\"Date(UTC)\"] > start].reset_index()\n",
    "    return clean_df[clean_df[\"Type\"] == \"BUY\"][\"Price\"].mean()\n",
    "avg_buy_price(df,start_date,end_date,0,0)"
   ]
  },
  {
   "cell_type": "code",
   "execution_count": null,
   "metadata": {},
   "outputs": [],
   "source": [
    "# Detect when a bot is stopped, started, changes to configuration \n",
    "# (Some columns should have the same thing unless something changes)"
   ]
  }
 ],
 "metadata": {
  "kernelspec": {
   "display_name": "Python 3",
   "language": "python",
   "name": "python3"
  },
  "language_info": {
   "codemirror_mode": {
    "name": "ipython",
    "version": 3
   },
   "file_extension": ".py",
   "mimetype": "text/x-python",
   "name": "python",
   "nbconvert_exporter": "python",
   "pygments_lexer": "ipython3",
   "version": "3.7.7"
  }
 },
 "nbformat": 4,
 "nbformat_minor": 4
}
