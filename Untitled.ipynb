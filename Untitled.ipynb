{
 "cells": [
  {
   "cell_type": "code",
   "execution_count": 54,
   "metadata": {
    "ExecuteTime": {
     "end_time": "2020-05-29T23:01:42.173162Z",
     "start_time": "2020-05-29T23:01:42.135382Z"
    }
   },
   "outputs": [],
   "source": [
    "import pandas as pd\n",
    "from datetime import datetime\n",
    "\n",
    "# Variables (fee_coin, base, quote, csv_file)\n",
    "coin = \"TUSD\"\n",
    "base = \"ETH\"\n",
    "quote = \"TUSD\"\n",
    "\n",
    "df = pd.read_csv(\"pmm_binance_ethtusd_1_TF_Tables.csv\").drop([\"strategy\", \"config_file_path\",\\\n",
    "                                                              \"order_id\", \"base_asset\", \"quote_asset\",\\\n",
    "                                                              \"exchange_trade_id\", \"order_type\", \"id\"], axis=1)\n",
    "\n",
    "if df.market[0].find(\"PaperTrade\") >= 0:\n",
    "    df = df.drop([\"market\", \"trade_fee\"], axis=1)\n",
    "    df['Date(UTC)'] = df.apply(lambda row: datetime.fromtimestamp(int(str(row[\"timestamp\"])[:10])), axis=1)\n",
    "df[\"Total\"] = df[\"price\"] * df[\"amount\"] \n",
    "df = df.rename(columns={\"symbol\":\"Market\", \"price\":\"Price\", \"amount\":\"Amount\", \"trade_type\":\"Type\"})\n",
    "cols = [\"Date(UTC)\", \"Market\", \"Type\", \"Price\", \"Amount\", \"Total\", \"Fee\", \"Fee Coin\"] \n",
    "df[\"Fee\"] = df.apply(lambda row: row[\"Total\"] * 0.05, axis=1)\n",
    "df[\"Fee Coin\"] = coin\n",
    "df = df[cols]\n",
    "df.to_csv(\"pmm_binance_ethtusd_1_clean_TF_Tables.csv\")"
   ]
  },
  {
   "cell_type": "code",
   "execution_count": null,
   "metadata": {},
   "outputs": [],
   "source": []
  }
 ],
 "metadata": {
  "kernelspec": {
   "display_name": "Python 3",
   "language": "python",
   "name": "python3"
  },
  "language_info": {
   "codemirror_mode": {
    "name": "ipython",
    "version": 3
   },
   "file_extension": ".py",
   "mimetype": "text/x-python",
   "name": "python",
   "nbconvert_exporter": "python",
   "pygments_lexer": "ipython3",
   "version": "3.7.7"
  }
 },
 "nbformat": 4,
 "nbformat_minor": 4
}
